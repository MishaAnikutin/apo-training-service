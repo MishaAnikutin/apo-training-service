{
 "cells": [
  {
   "cell_type": "code",
   "execution_count": 1,
   "id": "373cdf7f-7af7-4d67-8555-e2fade151a3c",
   "metadata": {},
   "outputs": [],
   "source": [
    "import sqlite3\n",
    "import pandas as pd"
   ]
  },
  {
   "cell_type": "code",
   "execution_count": 2,
   "id": "7c506c98-324c-40e6-9f74-ea6ec5fc61fc",
   "metadata": {},
   "outputs": [],
   "source": [
    "conn = sqlite3.connect('database.db')"
   ]
  },
  {
   "cell_type": "code",
   "execution_count": 17,
   "id": "41d56d32-20b2-47b8-9460-f6ac08da97ac",
   "metadata": {},
   "outputs": [],
   "source": [
    "Subjects = {\n",
    "    'Экономика': 'economics',\n",
    "    'Английский язык': 'english',\n",
    "    'Немецкий язык': 'german',\n",
    "    'ОБЖ': 'obzh',\n",
    "    'Обществознание': 'social',\n",
    "    'География': 'geography',\n",
    "    'Французский язык': 'french',\n",
    "    'Испанский язык': 'spanish'\n",
    "}"
   ]
  },
  {
   "cell_type": "markdown",
   "id": "4ad08cfc-5fc2-45a9-ac2b-ed49e30498a3",
   "metadata": {},
   "source": [
    "# Данетки"
   ]
  },
  {
   "cell_type": "code",
   "execution_count": 48,
   "id": "8d8e3884-6536-4254-ac1a-6c6a663ec449",
   "metadata": {},
   "outputs": [
    {
     "data": {
      "text/plain": [
       "Index(['Номер задачи', 'Тело вопроса', 'Верный ответ', 'Предмет', 'Источник',\n",
       "       'Можно в метро', 'Тема', 'Количество решений', 'Количество верных',\n",
       "       'Есть ли картинка', 'Картинка', 'тип'],\n",
       "      dtype='object')"
      ]
     },
     "execution_count": 48,
     "metadata": {},
     "output_type": "execute_result"
    }
   ],
   "source": [
    "yesno = pd.read_sql_query('SELECT * FROM \"Задачи да/нет-ки\"', conn)\n",
    "yesno.columns"
   ]
  },
  {
   "cell_type": "code",
   "execution_count": 49,
   "id": "a48edb13-5f4f-4c06-b1a2-026b31e0ac51",
   "metadata": {},
   "outputs": [],
   "source": [
    "yesno = yesno.rename(\n",
    "    columns={\n",
    "        'Номер задачи': 'question_id',\n",
    "        'Тело вопроса': 'ask_text',\n",
    "        'Верный ответ': 'right_answer',\n",
    "        'Предмет': 'subject',\n",
    "        'Источник': 'source',\n",
    "        'Можно в метро': 'may_in_subway',\n",
    "        'Тема': 'theme',\n",
    "        'Количество решений': 'number_of_decisions',\n",
    "        'Количество верных': 'number_of_correct_decisions',\n",
    "        'Есть ли картинка': 'have_photo',\n",
    "        'Картинка': 'photo_url'\n",
    "    }\n",
    ").drop(columns=['тип', 'question_id'])\n",
    "\n",
    "yesno.index.names = ['question_id']"
   ]
  },
  {
   "cell_type": "code",
   "execution_count": 50,
   "id": "c02e0d1e-0e4b-41de-ad6c-645d2803374c",
   "metadata": {},
   "outputs": [
    {
     "data": {
      "text/html": [
       "<div>\n",
       "<style scoped>\n",
       "    .dataframe tbody tr th:only-of-type {\n",
       "        vertical-align: middle;\n",
       "    }\n",
       "\n",
       "    .dataframe tbody tr th {\n",
       "        vertical-align: top;\n",
       "    }\n",
       "\n",
       "    .dataframe thead th {\n",
       "        text-align: right;\n",
       "    }\n",
       "</style>\n",
       "<table border=\"1\" class=\"dataframe\">\n",
       "  <thead>\n",
       "    <tr style=\"text-align: right;\">\n",
       "      <th></th>\n",
       "      <th>ask_text</th>\n",
       "      <th>right_answer</th>\n",
       "      <th>subject</th>\n",
       "      <th>source</th>\n",
       "      <th>may_in_subway</th>\n",
       "      <th>theme</th>\n",
       "      <th>number_of_decisions</th>\n",
       "      <th>number_of_correct_decisions</th>\n",
       "      <th>have_photo</th>\n",
       "      <th>photo_url</th>\n",
       "    </tr>\n",
       "    <tr>\n",
       "      <th>question_id</th>\n",
       "      <th></th>\n",
       "      <th></th>\n",
       "      <th></th>\n",
       "      <th></th>\n",
       "      <th></th>\n",
       "      <th></th>\n",
       "      <th></th>\n",
       "      <th></th>\n",
       "      <th></th>\n",
       "      <th></th>\n",
       "    </tr>\n",
       "  </thead>\n",
       "  <tbody>\n",
       "    <tr>\n",
       "      <th>0</th>\n",
       "      <td>Если Вы вкладываете в банк на счёт $100 при ст...</td>\n",
       "      <td>0</td>\n",
       "      <td>Экономика</td>\n",
       "      <td>MOSH</td>\n",
       "      <td>1</td>\n",
       "      <td>mathematics</td>\n",
       "      <td>0</td>\n",
       "      <td>0</td>\n",
       "      <td>0</td>\n",
       "      <td>None</td>\n",
       "    </tr>\n",
       "  </tbody>\n",
       "</table>\n",
       "</div>"
      ],
      "text/plain": [
       "                                                      ask_text right_answer  \\\n",
       "question_id                                                                   \n",
       "0            Если Вы вкладываете в банк на счёт $100 при ст...            0   \n",
       "\n",
       "               subject source  may_in_subway        theme  \\\n",
       "question_id                                                 \n",
       "0            Экономика   MOSH              1  mathematics   \n",
       "\n",
       "             number_of_decisions  number_of_correct_decisions  have_photo  \\\n",
       "question_id                                                                 \n",
       "0                              0                            0           0   \n",
       "\n",
       "            photo_url  \n",
       "question_id            \n",
       "0                None  "
      ]
     },
     "execution_count": 50,
     "metadata": {},
     "output_type": "execute_result"
    }
   ],
   "source": [
    "yesno.head(1)"
   ]
  },
  {
   "cell_type": "code",
   "execution_count": 51,
   "id": "4797a1d0-6081-47f0-a0ae-d0c848a37f90",
   "metadata": {},
   "outputs": [
    {
     "data": {
      "text/plain": [
       "array(['Экономика', 'Английский язык', 'Обществознание', 'Немецкий язык'],\n",
       "      dtype=object)"
      ]
     },
     "execution_count": 51,
     "metadata": {},
     "output_type": "execute_result"
    }
   ],
   "source": [
    "yesno.subject.unique()"
   ]
  },
  {
   "cell_type": "code",
   "execution_count": 52,
   "id": "8611e81b-5e63-485b-b2ad-3d19eead4371",
   "metadata": {},
   "outputs": [],
   "source": [
    "yesno.subject = yesno.subject.apply(Subjects.__getitem__)"
   ]
  },
  {
   "cell_type": "code",
   "execution_count": 53,
   "id": "e7dca56e-6399-4c1e-81f4-89b21f1efeb3",
   "metadata": {},
   "outputs": [
    {
     "data": {
      "text/plain": [
       "array(['economics', 'english', 'social', 'german'], dtype=object)"
      ]
     },
     "execution_count": 53,
     "metadata": {},
     "output_type": "execute_result"
    }
   ],
   "source": [
    "yesno.subject.unique()"
   ]
  },
  {
   "cell_type": "markdown",
   "id": "5c207c4c-2fb2-47cf-b87f-7a98a88bedf2",
   "metadata": {},
   "source": [
    "### Очищаем данные"
   ]
  },
  {
   "cell_type": "code",
   "execution_count": 67,
   "id": "25e6aa3d-0e92-4f2b-ad7d-bc498feec8c6",
   "metadata": {},
   "outputs": [],
   "source": [
    "yesno.right_answer = yesno.right_answer.apply(lambda x: x if x != '=1' else 1)"
   ]
  },
  {
   "attachments": {
    "890bd564-8051-4131-967a-22d7dcc9a4c1.png": {
     "image/png": "[encoded data removed]"
    }
   },
   "cell_type": "markdown",
   "id": "841f09cc-c736-414d-a629-af67f95fc12c",
   "metadata": {},
   "source": [
    "### Расставляем в верном порядке\n",
    "\n",
    "![image.png](attachment:890bd564-8051-4131-967a-22d7dcc9a4c1.png)"
   ]
  },
  {
   "cell_type": "code",
   "execution_count": 59,
   "id": "048c77fc-fcf7-4093-9f1d-7eb4e1f9dd9a",
   "metadata": {},
   "outputs": [],
   "source": [
    "yesno = yesno[['ask_text', 'right_answer', 'subject', 'source', 'theme', 'may_in_subway', 'have_photo', 'number_of_decisions', 'number_of_correct_decisions', 'photo_url']]"
   ]
  },
  {
   "cell_type": "code",
   "execution_count": 68,
   "id": "d4cb105a-16cf-43e1-9bc3-156925c8915f",
   "metadata": {},
   "outputs": [],
   "source": [
    "yesno.to_csv('yesno.csv')"
   ]
  },
  {
   "cell_type": "markdown",
   "id": "3e080bcf-23af-46b4-ac31-daef1555fd4f",
   "metadata": {},
   "source": [
    "# Один верный ответ"
   ]
  },
  {
   "cell_type": "code",
   "execution_count": 4,
   "id": "530edc70-5516-43e7-9131-2f4748e7b80c",
   "metadata": {},
   "outputs": [],
   "source": [
    "one = pd.read_sql_query('SELECT * FROM \"Задачи с одним вариантом ответа\"', conn)\n"
   ]
  },
  {
   "cell_type": "code",
   "execution_count": 5,
   "id": "276f8152-4566-4c4f-9d15-fb3a6717bf13",
   "metadata": {},
   "outputs": [
    {
     "data": {
      "text/plain": [
       "Index(['Номер задачи', 'Тело вопроса', '1 вариант ответа', '2 вариант ответа',\n",
       "       '3 вариант ответа', '4 вариант ответа', '5 вариант ответа',\n",
       "       'Верный ответ', 'Предмет', 'Источник', 'Можно в метро', 'Тема',\n",
       "       'Количество решений', 'Количество верных', 'Есть ли картинка', 'тип',\n",
       "       'Картинка'],\n",
       "      dtype='object')"
      ]
     },
     "execution_count": 5,
     "metadata": {},
     "output_type": "execute_result"
    }
   ],
   "source": [
    "one.columns"
   ]
  },
  {
   "cell_type": "code",
   "execution_count": 6,
   "id": "30852537-fd94-4262-8227-44c846eee76b",
   "metadata": {},
   "outputs": [],
   "source": [
    "one = one.rename(\n",
    "    columns={\n",
    "        'Номер задачи': 'question_id',\n",
    "        'Тело вопроса': 'ask_text',\n",
    "        '1 вариант ответа': 'answer_1',\n",
    "        '2 вариант ответа': 'answer_2',\n",
    "        '3 вариант ответа': 'answer_3',\n",
    "        '4 вариант ответа': 'answer_4',\n",
    "        '5 вариант ответа': 'answer_5',\n",
    "        'Верный ответ': 'right_answer',\n",
    "        'Предмет': 'subject',\n",
    "        'Источник': 'source',\n",
    "        'Можно в метро': 'may_in_subway',\n",
    "        'Тема': 'theme',\n",
    "        'Количество решений': 'number_of_decisions',\n",
    "        'Количество верных': 'number_of_correct_decisions',\n",
    "        'Есть ли картинка': 'have_photo',\n",
    "        'Картинка': 'photo_url'\n",
    "    }\n",
    ").drop(columns=['тип'])"
   ]
  },
  {
   "cell_type": "code",
   "execution_count": 27,
   "id": "b394dd4b-cd6f-43b5-bdd6-63fa3e03ded6",
   "metadata": {},
   "outputs": [
    {
     "name": "stderr",
     "output_type": "stream",
     "text": [
      "/tmp/ipykernel_16834/3207795792.py:1: SettingWithCopyWarning: \n",
      "A value is trying to be set on a copy of a slice from a DataFrame.\n",
      "Try using .loc[row_indexer,col_indexer] = value instead\n",
      "\n",
      "See the caveats in the documentation: https://pandas.pydata.org/pandas-docs/stable/user_guide/indexing.html#returning-a-view-versus-a-copy\n",
      "  one['have_photo'] = one.photo_url.apply(lambda x: True if x == 1 else False)\n"
     ]
    }
   ],
   "source": [
    "one['have_photo'] = one.photo_url.apply(lambda x: True if x == 1 else False)"
   ]
  },
  {
   "cell_type": "code",
   "execution_count": 29,
   "id": "fea20546-4226-48bd-ba2d-2d5840c0b6c6",
   "metadata": {},
   "outputs": [
    {
     "data": {
      "text/plain": [
       "array([False,  True])"
      ]
     },
     "execution_count": 29,
     "metadata": {},
     "output_type": "execute_result"
    }
   ],
   "source": [
    "one.have_photo.unique()"
   ]
  },
  {
   "cell_type": "code",
   "execution_count": 30,
   "id": "659dcf0f-c87c-403e-b429-5850e14d81ad",
   "metadata": {},
   "outputs": [
    {
     "name": "stderr",
     "output_type": "stream",
     "text": [
      "/tmp/ipykernel_16834/3416979703.py:1: SettingWithCopyWarning: \n",
      "A value is trying to be set on a copy of a slice from a DataFrame.\n",
      "Try using .loc[row_indexer,col_indexer] = value instead\n",
      "\n",
      "See the caveats in the documentation: https://pandas.pydata.org/pandas-docs/stable/user_guide/indexing.html#returning-a-view-versus-a-copy\n",
      "  one.photo_url = [None] * one.shape[0]\n"
     ]
    }
   ],
   "source": [
    "one.photo_url = [None] * one.shape[0]"
   ]
  },
  {
   "cell_type": "code",
   "execution_count": 18,
   "id": "41592076-de61-43e3-8aa1-b5b93a90aa42",
   "metadata": {},
   "outputs": [],
   "source": [
    "one.subject = one.subject.apply(Subjects.__getitem__)"
   ]
  },
  {
   "cell_type": "code",
   "execution_count": 19,
   "id": "a00e6728-cc50-4526-9ee1-e8cf33bacda3",
   "metadata": {},
   "outputs": [
    {
     "data": {
      "text/plain": [
       "array([  3,   0,   1,   4,   2, 123])"
      ]
     },
     "execution_count": 19,
     "metadata": {},
     "output_type": "execute_result"
    }
   ],
   "source": [
    "one.right_answer.unique()"
   ]
  },
  {
   "cell_type": "code",
   "execution_count": 22,
   "id": "34fcbdd2-d15d-4123-bc94-b25edbf8fbef",
   "metadata": {},
   "outputs": [],
   "source": [
    "one = one[one.right_answer != 123]"
   ]
  },
  {
   "cell_type": "code",
   "execution_count": 51,
   "id": "b4d27b9d-c364-42d2-b9ad-bd0c64e1184e",
   "metadata": {},
   "outputs": [],
   "source": [
    "one = one[(~one.answer_1.isna()) & (~one.answer_2.isna()) & (~one.answer_3.isna())& (~one.answer_4.isna())]"
   ]
  },
  {
   "attachments": {
    "d56ed843-f398-4cf5-bf61-6e8f2e3ab537.png": {
     "image/png": "[encoded data removed]"
    }
   },
   "cell_type": "markdown",
   "id": "e100193d-6f12-47e3-8123-9d1a84909a95",
   "metadata": {},
   "source": [
    "![image.png](attachment:d56ed843-f398-4cf5-bf61-6e8f2e3ab537.png)"
   ]
  },
  {
   "attachments": {
    "ca2642f5-507d-41d9-96d1-b9ea1f34dbf7.png": {
     "image/png": "[encoded data removed]"
    }
   },
   "cell_type": "markdown",
   "id": "d720612a-2bef-4608-a41b-5f7c89b74e06",
   "metadata": {},
   "source": [
    "![image.png](attachment:ca2642f5-507d-41d9-96d1-b9ea1f34dbf7.png)"
   ]
  },
  {
   "cell_type": "code",
   "execution_count": 33,
   "id": "53ec39b9-a208-4fc8-8db1-d4373a7369e9",
   "metadata": {},
   "outputs": [],
   "source": [
    "one = one[['question_id', 'ask_text', 'answer_1', 'answer_2', 'answer_3', 'answer_4', 'answer_5', 'right_answer', 'subject', 'source', 'theme', 'may_in_subway', 'have_photo', 'number_of_decisions', 'number_of_correct_decisions', 'photo_url']]"
   ]
  },
  {
   "cell_type": "code",
   "execution_count": 35,
   "id": "fb712974-4562-43c8-babc-6254bec62c7d",
   "metadata": {},
   "outputs": [],
   "source": [
    "one.index = one.question_id"
   ]
  },
  {
   "cell_type": "code",
   "execution_count": 58,
   "id": "bce9ef5e-9d7e-484b-8ae4-abd2bc7685b4",
   "metadata": {},
   "outputs": [],
   "source": [
    "one = one[one.ask_text.apply(lambda t: len(t)) < 4096]"
   ]
  },
  {
   "cell_type": "code",
   "execution_count": 64,
   "id": "2d2446f4-f83f-4ce2-a84a-1797d6f73b67",
   "metadata": {},
   "outputs": [],
   "source": [
    "one = one[~one.theme.isna()]"
   ]
  },
  {
   "cell_type": "code",
   "execution_count": 66,
   "id": "12176eeb-6c93-46bd-8092-7692cef6e1f2",
   "metadata": {},
   "outputs": [
    {
     "data": {
      "text/plain": [
       "(8382, 16)"
      ]
     },
     "execution_count": 66,
     "metadata": {},
     "output_type": "execute_result"
    }
   ],
   "source": [
    "one.shape"
   ]
  },
  {
   "cell_type": "code",
   "execution_count": 67,
   "id": "6f576078-f850-42b3-b521-5c679cf15524",
   "metadata": {},
   "outputs": [],
   "source": [
    "one.drop(columns=['question_id']).to_csv('one.csv')"
   ]
  }
 ],
 "metadata": {
  "kernelspec": {
   "display_name": "Python 3 (ipykernel)",
   "language": "python",
   "name": "python3"
  },
  "language_info": {
   "codemirror_mode": {
    "name": "ipython",
    "version": 3
   },
   "file_extension": ".py",
   "mimetype": "text/x-python",
   "name": "python",
   "nbconvert_exporter": "python",
   "pygments_lexer": "ipython3",
   "version": "3.11.8"
  }
 },
 "nbformat": 4,
 "nbformat_minor": 5
}
