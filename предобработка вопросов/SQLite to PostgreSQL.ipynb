{
 "cells": [
  {
   "cell_type": "code",
   "execution_count": 34,
   "id": "373cdf7f-7af7-4d67-8555-e2fade151a3c",
   "metadata": {},
   "outputs": [],
   "source": [
    "import sqlite3\n",
    "import pandas as pd"
   ]
  },
  {
   "cell_type": "code",
   "execution_count": 35,
   "id": "7c506c98-324c-40e6-9f74-ea6ec5fc61fc",
   "metadata": {},
   "outputs": [],
   "source": [
    "conn = sqlite3.connect('database.db')"
   ]
  },
  {
   "cell_type": "code",
   "execution_count": 36,
   "id": "41d56d32-20b2-47b8-9460-f6ac08da97ac",
   "metadata": {},
   "outputs": [],
   "source": [
    "Subjects = {\n",
    "    'Экономика': 'economics',\n",
    "    'Английский язык': 'english',\n",
    "    'Немецкий язык': 'german',\n",
    "    'ОБЖ': 'obzh',\n",
    "    'Обществознание': 'social'\n",
    "}"
   ]
  },
  {
   "cell_type": "markdown",
   "id": "4ad08cfc-5fc2-45a9-ac2b-ed49e30498a3",
   "metadata": {},
   "source": [
    "# Данетки"
   ]
  },
  {
   "cell_type": "code",
   "execution_count": 48,
   "id": "8d8e3884-6536-4254-ac1a-6c6a663ec449",
   "metadata": {},
   "outputs": [
    {
     "data": {
      "text/plain": [
       "Index(['Номер задачи', 'Тело вопроса', 'Верный ответ', 'Предмет', 'Источник',\n",
       "       'Можно в метро', 'Тема', 'Количество решений', 'Количество верных',\n",
       "       'Есть ли картинка', 'Картинка', 'тип'],\n",
       "      dtype='object')"
      ]
     },
     "execution_count": 48,
     "metadata": {},
     "output_type": "execute_result"
    }
   ],
   "source": [
    "yesno = pd.read_sql_query('SELECT * FROM \"Задачи да/нет-ки\"', conn)\n",
    "yesno.columns"
   ]
  },
  {
   "cell_type": "code",
   "execution_count": 49,
   "id": "a48edb13-5f4f-4c06-b1a2-026b31e0ac51",
   "metadata": {},
   "outputs": [],
   "source": [
    "yesno = yesno.rename(\n",
    "    columns={\n",
    "        'Номер задачи': 'question_id',\n",
    "        'Тело вопроса': 'ask_text',\n",
    "        'Верный ответ': 'right_answer',\n",
    "        'Предмет': 'subject',\n",
    "        'Источник': 'source',\n",
    "        'Можно в метро': 'may_in_subway',\n",
    "        'Тема': 'theme',\n",
    "        'Количество решений': 'number_of_decisions',\n",
    "        'Количество верных': 'number_of_correct_decisions',\n",
    "        'Есть ли картинка': 'have_photo',\n",
    "        'Картинка': 'photo_url'\n",
    "    }\n",
    ").drop(columns=['тип', 'question_id'])\n",
    "\n",
    "yesno.index.names = ['question_id']"
   ]
  },
  {
   "cell_type": "code",
   "execution_count": 50,
   "id": "c02e0d1e-0e4b-41de-ad6c-645d2803374c",
   "metadata": {},
   "outputs": [
    {
     "data": {
      "text/html": [
       "<div>\n",
       "<style scoped>\n",
       "    .dataframe tbody tr th:only-of-type {\n",
       "        vertical-align: middle;\n",
       "    }\n",
       "\n",
       "    .dataframe tbody tr th {\n",
       "        vertical-align: top;\n",
       "    }\n",
       "\n",
       "    .dataframe thead th {\n",
       "        text-align: right;\n",
       "    }\n",
       "</style>\n",
       "<table border=\"1\" class=\"dataframe\">\n",
       "  <thead>\n",
       "    <tr style=\"text-align: right;\">\n",
       "      <th></th>\n",
       "      <th>ask_text</th>\n",
       "      <th>right_answer</th>\n",
       "      <th>subject</th>\n",
       "      <th>source</th>\n",
       "      <th>may_in_subway</th>\n",
       "      <th>theme</th>\n",
       "      <th>number_of_decisions</th>\n",
       "      <th>number_of_correct_decisions</th>\n",
       "      <th>have_photo</th>\n",
       "      <th>photo_url</th>\n",
       "    </tr>\n",
       "    <tr>\n",
       "      <th>question_id</th>\n",
       "      <th></th>\n",
       "      <th></th>\n",
       "      <th></th>\n",
       "      <th></th>\n",
       "      <th></th>\n",
       "      <th></th>\n",
       "      <th></th>\n",
       "      <th></th>\n",
       "      <th></th>\n",
       "      <th></th>\n",
       "    </tr>\n",
       "  </thead>\n",
       "  <tbody>\n",
       "    <tr>\n",
       "      <th>0</th>\n",
       "      <td>Если Вы вкладываете в банк на счёт $100 при ст...</td>\n",
       "      <td>0</td>\n",
       "      <td>Экономика</td>\n",
       "      <td>MOSH</td>\n",
       "      <td>1</td>\n",
       "      <td>mathematics</td>\n",
       "      <td>0</td>\n",
       "      <td>0</td>\n",
       "      <td>0</td>\n",
       "      <td>None</td>\n",
       "    </tr>\n",
       "  </tbody>\n",
       "</table>\n",
       "</div>"
      ],
      "text/plain": [
       "                                                      ask_text right_answer  \\\n",
       "question_id                                                                   \n",
       "0            Если Вы вкладываете в банк на счёт $100 при ст...            0   \n",
       "\n",
       "               subject source  may_in_subway        theme  \\\n",
       "question_id                                                 \n",
       "0            Экономика   MOSH              1  mathematics   \n",
       "\n",
       "             number_of_decisions  number_of_correct_decisions  have_photo  \\\n",
       "question_id                                                                 \n",
       "0                              0                            0           0   \n",
       "\n",
       "            photo_url  \n",
       "question_id            \n",
       "0                None  "
      ]
     },
     "execution_count": 50,
     "metadata": {},
     "output_type": "execute_result"
    }
   ],
   "source": [
    "yesno.head(1)"
   ]
  },
  {
   "cell_type": "code",
   "execution_count": 51,
   "id": "4797a1d0-6081-47f0-a0ae-d0c848a37f90",
   "metadata": {},
   "outputs": [
    {
     "data": {
      "text/plain": [
       "array(['Экономика', 'Английский язык', 'Обществознание', 'Немецкий язык'],\n",
       "      dtype=object)"
      ]
     },
     "execution_count": 51,
     "metadata": {},
     "output_type": "execute_result"
    }
   ],
   "source": [
    "yesno.subject.unique()"
   ]
  },
  {
   "cell_type": "code",
   "execution_count": 52,
   "id": "8611e81b-5e63-485b-b2ad-3d19eead4371",
   "metadata": {},
   "outputs": [],
   "source": [
    "yesno.subject = yesno.subject.apply(Subjects.__getitem__)"
   ]
  },
  {
   "cell_type": "code",
   "execution_count": 53,
   "id": "e7dca56e-6399-4c1e-81f4-89b21f1efeb3",
   "metadata": {},
   "outputs": [
    {
     "data": {
      "text/plain": [
       "array(['economics', 'english', 'social', 'german'], dtype=object)"
      ]
     },
     "execution_count": 53,
     "metadata": {},
     "output_type": "execute_result"
    }
   ],
   "source": [
    "yesno.subject.unique()"
   ]
  },
  {
   "cell_type": "markdown",
   "id": "5c207c4c-2fb2-47cf-b87f-7a98a88bedf2",
   "metadata": {},
   "source": [
    "### Очищаем данные"
   ]
  },
  {
   "cell_type": "code",
   "execution_count": 67,
   "id": "25e6aa3d-0e92-4f2b-ad7d-bc498feec8c6",
   "metadata": {},
   "outputs": [],
   "source": [
    "yesno.right_answer = yesno.right_answer.apply(lambda x: x if x != '=1' else 1)"
   ]
  },
  {
   "attachments": {
    "890bd564-8051-4131-967a-22d7dcc9a4c1.png": {
     "image/png": "[encoded data removed]"
    }
   },
   "cell_type": "markdown",
   "id": "841f09cc-c736-414d-a629-af67f95fc12c",
   "metadata": {},
   "source": [
    "### Расставляем в верном порядке\n",
    "\n",
    "![image.png](attachment:890bd564-8051-4131-967a-22d7dcc9a4c1.png)"
   ]
  },
  {
   "cell_type": "code",
   "execution_count": 59,
   "id": "048c77fc-fcf7-4093-9f1d-7eb4e1f9dd9a",
   "metadata": {},
   "outputs": [],
   "source": [
    "yesno = yesno[['ask_text', 'right_answer', 'subject', 'source', 'theme', 'may_in_subway', 'have_photo', 'number_of_decisions', 'number_of_correct_decisions', 'photo_url']]"
   ]
  },
  {
   "cell_type": "code",
   "execution_count": 68,
   "id": "d4cb105a-16cf-43e1-9bc3-156925c8915f",
   "metadata": {},
   "outputs": [],
   "source": [
    "yesno.to_csv('yesno.csv')"
   ]
  }
 ],
 "metadata": {
  "kernelspec": {
   "display_name": "Python 3 (ipykernel)",
   "language": "python",
   "name": "python3"
  },
  "language_info": {
   "codemirror_mode": {
    "name": "ipython",
    "version": 3
   },
   "file_extension": ".py",
   "mimetype": "text/x-python",
   "name": "python",
   "nbconvert_exporter": "python",
   "pygments_lexer": "ipython3",
   "version": "3.11.8"
  }
 },
 "nbformat": 4,
 "nbformat_minor": 5
}
